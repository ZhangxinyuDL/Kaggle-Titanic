{
 "cells": [
  {
   "cell_type": "code",
   "execution_count": 1,
   "id": "757a9c98",
   "metadata": {},
   "outputs": [],
   "source": [
    "import numpy as np\n",
    "import pandas as pd\n",
    "import matplotlib.pyplot as plt\n",
    "import seaborn as sns"
   ]
  },
  {
   "cell_type": "code",
   "execution_count": 2,
   "id": "4714d1f8",
   "metadata": {},
   "outputs": [
    {
     "name": "stdout",
     "output_type": "stream",
     "text": [
      "训练集： (891, 12)\n",
      "测试集： (418, 11)\n"
     ]
    }
   ],
   "source": [
    "train = pd.read_csv('train.csv',encoding='utf-8')\n",
    "test = pd.read_csv('test.csv',encoding='utf-8')\n",
    "print('训练集：',train.shape)\n",
    "print('测试集：',test.shape)"
   ]
  },
  {
   "cell_type": "code",
   "execution_count": 3,
   "id": "41e8c334",
   "metadata": {},
   "outputs": [
    {
     "data": {
      "text/plain": [
       "(1309, 12)"
      ]
     },
     "execution_count": 3,
     "metadata": {},
     "output_type": "execute_result"
    }
   ],
   "source": [
    "full = pd.concat([train,test],ignore_index=True)\n",
    "full.shape"
   ]
  },
  {
   "cell_type": "code",
   "execution_count": 4,
   "id": "29d55d6a",
   "metadata": {},
   "outputs": [
    {
     "data": {
      "text/html": [
       "<div>\n",
       "<style scoped>\n",
       "    .dataframe tbody tr th:only-of-type {\n",
       "        vertical-align: middle;\n",
       "    }\n",
       "\n",
       "    .dataframe tbody tr th {\n",
       "        vertical-align: top;\n",
       "    }\n",
       "\n",
       "    .dataframe thead th {\n",
       "        text-align: right;\n",
       "    }\n",
       "</style>\n",
       "<table border=\"1\" class=\"dataframe\">\n",
       "  <thead>\n",
       "    <tr style=\"text-align: right;\">\n",
       "      <th></th>\n",
       "      <th>PassengerId</th>\n",
       "      <th>Survived</th>\n",
       "      <th>Pclass</th>\n",
       "      <th>Name</th>\n",
       "      <th>Sex</th>\n",
       "      <th>Age</th>\n",
       "      <th>SibSp</th>\n",
       "      <th>Parch</th>\n",
       "      <th>Ticket</th>\n",
       "      <th>Fare</th>\n",
       "      <th>Cabin</th>\n",
       "      <th>Embarked</th>\n",
       "    </tr>\n",
       "  </thead>\n",
       "  <tbody>\n",
       "    <tr>\n",
       "      <th>0</th>\n",
       "      <td>1</td>\n",
       "      <td>0.0</td>\n",
       "      <td>3</td>\n",
       "      <td>Braund, Mr. Owen Harris</td>\n",
       "      <td>male</td>\n",
       "      <td>22.0</td>\n",
       "      <td>1</td>\n",
       "      <td>0</td>\n",
       "      <td>A/5 21171</td>\n",
       "      <td>7.2500</td>\n",
       "      <td>NaN</td>\n",
       "      <td>S</td>\n",
       "    </tr>\n",
       "    <tr>\n",
       "      <th>1</th>\n",
       "      <td>2</td>\n",
       "      <td>1.0</td>\n",
       "      <td>1</td>\n",
       "      <td>Cumings, Mrs. John Bradley (Florence Briggs Th...</td>\n",
       "      <td>female</td>\n",
       "      <td>38.0</td>\n",
       "      <td>1</td>\n",
       "      <td>0</td>\n",
       "      <td>PC 17599</td>\n",
       "      <td>71.2833</td>\n",
       "      <td>C85</td>\n",
       "      <td>C</td>\n",
       "    </tr>\n",
       "    <tr>\n",
       "      <th>2</th>\n",
       "      <td>3</td>\n",
       "      <td>1.0</td>\n",
       "      <td>3</td>\n",
       "      <td>Heikkinen, Miss. Laina</td>\n",
       "      <td>female</td>\n",
       "      <td>26.0</td>\n",
       "      <td>0</td>\n",
       "      <td>0</td>\n",
       "      <td>STON/O2. 3101282</td>\n",
       "      <td>7.9250</td>\n",
       "      <td>NaN</td>\n",
       "      <td>S</td>\n",
       "    </tr>\n",
       "    <tr>\n",
       "      <th>3</th>\n",
       "      <td>4</td>\n",
       "      <td>1.0</td>\n",
       "      <td>1</td>\n",
       "      <td>Futrelle, Mrs. Jacques Heath (Lily May Peel)</td>\n",
       "      <td>female</td>\n",
       "      <td>35.0</td>\n",
       "      <td>1</td>\n",
       "      <td>0</td>\n",
       "      <td>113803</td>\n",
       "      <td>53.1000</td>\n",
       "      <td>C123</td>\n",
       "      <td>S</td>\n",
       "    </tr>\n",
       "    <tr>\n",
       "      <th>4</th>\n",
       "      <td>5</td>\n",
       "      <td>0.0</td>\n",
       "      <td>3</td>\n",
       "      <td>Allen, Mr. William Henry</td>\n",
       "      <td>male</td>\n",
       "      <td>35.0</td>\n",
       "      <td>0</td>\n",
       "      <td>0</td>\n",
       "      <td>373450</td>\n",
       "      <td>8.0500</td>\n",
       "      <td>NaN</td>\n",
       "      <td>S</td>\n",
       "    </tr>\n",
       "  </tbody>\n",
       "</table>\n",
       "</div>"
      ],
      "text/plain": [
       "   PassengerId  Survived  Pclass  \\\n",
       "0            1       0.0       3   \n",
       "1            2       1.0       1   \n",
       "2            3       1.0       3   \n",
       "3            4       1.0       1   \n",
       "4            5       0.0       3   \n",
       "\n",
       "                                                Name     Sex   Age  SibSp  \\\n",
       "0                            Braund, Mr. Owen Harris    male  22.0      1   \n",
       "1  Cumings, Mrs. John Bradley (Florence Briggs Th...  female  38.0      1   \n",
       "2                             Heikkinen, Miss. Laina  female  26.0      0   \n",
       "3       Futrelle, Mrs. Jacques Heath (Lily May Peel)  female  35.0      1   \n",
       "4                           Allen, Mr. William Henry    male  35.0      0   \n",
       "\n",
       "   Parch            Ticket     Fare Cabin Embarked  \n",
       "0      0         A/5 21171   7.2500   NaN        S  \n",
       "1      0          PC 17599  71.2833   C85        C  \n",
       "2      0  STON/O2. 3101282   7.9250   NaN        S  \n",
       "3      0            113803  53.1000  C123        S  \n",
       "4      0            373450   8.0500   NaN        S  "
      ]
     },
     "execution_count": 4,
     "metadata": {},
     "output_type": "execute_result"
    }
   ],
   "source": [
    "full.head()"
   ]
  },
  {
   "cell_type": "code",
   "execution_count": 5,
   "id": "d7c0b7f4",
   "metadata": {},
   "outputs": [
    {
     "name": "stdout",
     "output_type": "stream",
     "text": [
      "<class 'pandas.core.frame.DataFrame'>\n",
      "RangeIndex: 1309 entries, 0 to 1308\n",
      "Data columns (total 12 columns):\n",
      " #   Column       Non-Null Count  Dtype  \n",
      "---  ------       --------------  -----  \n",
      " 0   PassengerId  1309 non-null   int64  \n",
      " 1   Survived     891 non-null    float64\n",
      " 2   Pclass       1309 non-null   int64  \n",
      " 3   Name         1309 non-null   object \n",
      " 4   Sex          1309 non-null   object \n",
      " 5   Age          1046 non-null   float64\n",
      " 6   SibSp        1309 non-null   int64  \n",
      " 7   Parch        1309 non-null   int64  \n",
      " 8   Ticket       1309 non-null   object \n",
      " 9   Fare         1308 non-null   float64\n",
      " 10  Cabin        295 non-null    object \n",
      " 11  Embarked     1307 non-null   object \n",
      "dtypes: float64(3), int64(4), object(5)\n",
      "memory usage: 122.8+ KB\n"
     ]
    }
   ],
   "source": [
    "full.info()"
   ]
  },
  {
   "cell_type": "code",
   "execution_count": null,
   "id": "0bdbefa7",
   "metadata": {},
   "outputs": [],
   "source": []
  },
  {
   "cell_type": "code",
   "execution_count": 6,
   "id": "f7791e22",
   "metadata": {},
   "outputs": [
    {
     "data": {
      "text/plain": [
       "<AxesSubplot:xlabel='Pclass', ylabel='Survived'>"
      ]
     },
     "execution_count": 6,
     "metadata": {},
     "output_type": "execute_result"
    },
    {
     "data": {
      "image/png": "[encoded data removed]",
      "text/plain": [
       "<Figure size 432x288 with 1 Axes>"
      ]
     },
     "metadata": {
      "needs_background": "light"
     },
     "output_type": "display_data"
    }
   ],
   "source": [
    "sns.barplot(x=\"Pclass\", y=\"Survived\", data=full)"
   ]
  },
  {
   "cell_type": "code",
   "execution_count": 7,
   "id": "2b9912d0",
   "metadata": {},
   "outputs": [
    {
     "data": {
      "text/plain": [
       "<AxesSubplot:xlabel='Sex', ylabel='Survived'>"
      ]
     },
     "execution_count": 7,
     "metadata": {},
     "output_type": "execute_result"
    },
    {
     "data": {
      "image/png": "[encoded data removed]",
      "text/plain": [
       "<Figure size 432x288 with 1 Axes>"
      ]
     },
     "metadata": {
      "needs_background": "light"
     },
     "output_type": "display_data"
    }
   ],
   "source": [
    "sns.barplot(x=\"Sex\", y=\"Survived\", data=full)"
   ]
  },
  {
   "cell_type": "code",
   "execution_count": 8,
   "id": "760b4393",
   "metadata": {},
   "outputs": [
    {
     "data": {
      "text/plain": [
       "Text(28.088425925925918, 0.5, 'Survived')"
      ]
     },
     "execution_count": 8,
     "metadata": {},
     "output_type": "execute_result"
    },
    {
     "data": {
      "image/png": "[encoded data removed]",
      "text/plain": [
       "<Figure size 484x216 with 1 Axes>"
      ]
     },
     "metadata": {
      "needs_background": "light"
     },
     "output_type": "display_data"
    }
   ],
   "source": [
    "facet = sns.FacetGrid(full, hue=\"Survived\",aspect=2)\n",
    "facet.map(sns.kdeplot,'Age',shade= True)\n",
    "facet.set(xlim=(0, train['Age'].max()))\n",
    "facet.add_legend()\n",
    "plt.xlabel('Age') \n",
    "plt.ylabel('Survived') "
   ]
  },
  {
   "cell_type": "code",
   "execution_count": 9,
   "id": "52db4b0f",
   "metadata": {},
   "outputs": [
    {
     "data": {
      "text/plain": [
       "<AxesSubplot:xlabel='SibSp', ylabel='Survived'>"
      ]
     },
     "execution_count": 9,
     "metadata": {},
     "output_type": "execute_result"
    },
    {
     "data": {
      "image/png": "[encoded data removed]",
      "text/plain": [
       "<Figure size 432x288 with 1 Axes>"
      ]
     },
     "metadata": {
      "needs_background": "light"
     },
     "output_type": "display_data"
    }
   ],
   "source": [
    "sns.barplot(x=\"SibSp\", y=\"Survived\", data=full)"
   ]
  },
  {
   "cell_type": "code",
   "execution_count": 10,
   "id": "1562671a",
   "metadata": {},
   "outputs": [
    {
     "data": {
      "text/plain": [
       "<AxesSubplot:xlabel='Parch', ylabel='Survived'>"
      ]
     },
     "execution_count": 10,
     "metadata": {},
     "output_type": "execute_result"
    },
    {
     "data": {
      "image/png": "[encoded data removed]",
      "text/plain": [
       "<Figure size 432x288 with 1 Axes>"
      ]
     },
     "metadata": {
      "needs_background": "light"
     },
     "output_type": "display_data"
    }
   ],
   "source": [
    "sns.barplot(x=\"Parch\", y=\"Survived\", data=full)"
   ]
  },
  {
   "cell_type": "code",
   "execution_count": 11,
   "id": "8befd427",
   "metadata": {},
   "outputs": [
    {
     "data": {
      "text/plain": [
       "<AxesSubplot:xlabel='FamilySize', ylabel='Survived'>"
      ]
     },
     "execution_count": 11,
     "metadata": {},
     "output_type": "execute_result"
    },
    {
     "data": {
      "image/png": "[encoded data removed]",
      "text/plain": [
       "<Figure size 432x288 with 1 Axes>"
      ]
     },
     "metadata": {
      "needs_background": "light"
     },
     "output_type": "display_data"
    }
   ],
   "source": [
    "full['FamilySize']=full['SibSp']+full['Parch']+1\n",
    "sns.barplot(x=\"FamilySize\", y=\"Survived\", data=full)"
   ]
  },
  {
   "cell_type": "code",
   "execution_count": 12,
   "id": "8d982ff6",
   "metadata": {},
   "outputs": [
    {
     "data": {
      "text/plain": [
       "<AxesSubplot:xlabel='Embarked', ylabel='Survived'>"
      ]
     },
     "execution_count": 12,
     "metadata": {},
     "output_type": "execute_result"
    },
    {
     "data": {
      "image/png": "[encoded data removed]",
      "text/plain": [
       "<Figure size 432x288 with 1 Axes>"
      ]
     },
     "metadata": {
      "needs_background": "light"
     },
     "output_type": "display_data"
    }
   ],
   "source": [
    "sns.barplot(x=\"Embarked\",y='Survived',data=full)"
   ]
  },
  {
   "cell_type": "code",
   "execution_count": 13,
   "id": "ba6f8915",
   "metadata": {},
   "outputs": [
    {
     "data": {
      "text/plain": [
       "<seaborn.axisgrid.FacetGrid at 0x148c91490>"
      ]
     },
     "execution_count": 13,
     "metadata": {},
     "output_type": "execute_result"
    },
    {
     "data": {
      "image/png": "[encoded data removed]",
      "text/plain": [
       "<Figure size 700x216 with 1 Axes>"
      ]
     },
     "metadata": {
      "needs_background": "light"
     },
     "output_type": "display_data"
    }
   ],
   "source": [
    "Facet = sns.FacetGrid(full,hue='Survived',aspect = 3)\n",
    "Facet.map(sns.kdeplot,'Fare',shade=True)\n",
    "Facet.set(xlim=(0,full[\"Fare\"].max()))\n",
    "Facet.add_legend()"
   ]
  },
  {
   "cell_type": "code",
   "execution_count": 14,
   "id": "328b8e1d",
   "metadata": {},
   "outputs": [],
   "source": [
    "full['Title'] = full.Name.map(lambda x:x.split(',')[1].split('.')[0].strip())  \n",
    "#姓名中头衔字符串与定义头衔类别的映射关系\n",
    "title_Dict={\n",
    "    'Capt':           'Officer', #政府官员\n",
    "    'Col':            'Officer',\n",
    "    'Don':            'Royalty', #王室\n",
    "    'Dona':           'Royalty',\n",
    "    'Dr':             'Officer',\n",
    "    'Jonkheer':       'Master', #专家\n",
    "    'Lady':           'Royalty',\n",
    "    'Major':          'Officer',\n",
    "    'Master':         'Master',\n",
    "    'Miss':           'Miss', #未婚女子\n",
    "    'Mlle':           'Miss',\n",
    "    'Mme':            'Mrs', #已婚男子\n",
    "    'Mr':             'Mr', #未婚男子\n",
    "    'Mrs':            'Mrs',\n",
    "    'Ms':             'Mrs',\n",
    "    'Rev':            'Officer',\n",
    "    'Sir':            'Royalty',\n",
    "    'the Countess':   'Royalty'\n",
    "}\n",
    "full['Title'] = full['Title'].map(title_Dict)\n"
   ]
  },
  {
   "cell_type": "code",
   "execution_count": 15,
   "id": "c590c446",
   "metadata": {},
   "outputs": [
    {
     "data": {
      "text/plain": [
       "<AxesSubplot:xlabel='Title', ylabel='Survived'>"
      ]
     },
     "execution_count": 15,
     "metadata": {},
     "output_type": "execute_result"
    },
    {
     "data": {
      "image/png": "[encoded data removed]",
      "text/plain": [
       "<Figure size 432x288 with 1 Axes>"
      ]
     },
     "metadata": {
      "needs_background": "light"
     },
     "output_type": "display_data"
    }
   ],
   "source": [
    "sns.barplot(x='Title',y='Survived',data=full)"
   ]
  },
  {
   "cell_type": "code",
   "execution_count": 16,
   "id": "89092188",
   "metadata": {},
   "outputs": [],
   "source": [
    "full['Cabin'] = full['Cabin'].fillna('U')\n",
    "full['Deck'] = full['Cabin'].map(lambda x: x[0])"
   ]
  },
  {
   "cell_type": "code",
   "execution_count": 17,
   "id": "b04a104a",
   "metadata": {},
   "outputs": [
    {
     "data": {
      "text/plain": [
       "<AxesSubplot:xlabel='Deck', ylabel='Survived'>"
      ]
     },
     "execution_count": 17,
     "metadata": {},
     "output_type": "execute_result"
    },
    {
     "data": {
      "image/png": "[encoded data removed]",
      "text/plain": [
       "<Figure size 432x288 with 1 Axes>"
      ]
     },
     "metadata": {
      "needs_background": "light"
     },
     "output_type": "display_data"
    }
   ],
   "source": [
    "sns.barplot(x='Deck',y='Survived',data=full)"
   ]
  },
  {
   "cell_type": "code",
   "execution_count": 18,
   "id": "21fae6c4",
   "metadata": {},
   "outputs": [
    {
     "data": {
      "text/plain": [
       "CA. 2343        11\n",
       "CA 2144          8\n",
       "1601             8\n",
       "PC 17608         7\n",
       "S.O.C. 14879     7\n",
       "                ..\n",
       "113792           1\n",
       "36209            1\n",
       "323592           1\n",
       "315089           1\n",
       "359309           1\n",
       "Name: Ticket, Length: 929, dtype: int64"
      ]
     },
     "execution_count": 18,
     "metadata": {},
     "output_type": "execute_result"
    }
   ],
   "source": [
    "full['Ticket'].value_counts()"
   ]
  },
  {
   "cell_type": "code",
   "execution_count": 19,
   "id": "6ccf5d5f",
   "metadata": {
    "scrolled": true
   },
   "outputs": [
    {
     "data": {
      "text/plain": [
       "<AxesSubplot:xlabel='TicketGroup', ylabel='Survived'>"
      ]
     },
     "execution_count": 19,
     "metadata": {},
     "output_type": "execute_result"
    },
    {
     "data": {
      "image/png": "[encoded data removed]",
      "text/plain": [
       "<Figure size 432x288 with 1 Axes>"
      ]
     },
     "metadata": {
      "needs_background": "light"
     },
     "output_type": "display_data"
    }
   ],
   "source": [
    "Ticket_Count = dict(full['Ticket'].value_counts())\n",
    "full['TicketGroup'] = full['Ticket'].apply(lambda x:Ticket_Count[x])\n",
    "sns.barplot(x='TicketGroup',y='Survived',data=full)"
   ]
  },
  {
   "cell_type": "code",
   "execution_count": 20,
   "id": "f3be8d5d",
   "metadata": {},
   "outputs": [
    {
     "data": {
      "text/plain": [
       "<AxesSubplot:xlabel='TicketGroup', ylabel='Survived'>"
      ]
     },
     "execution_count": 20,
     "metadata": {},
     "output_type": "execute_result"
    },
    {
     "data": {
      "image/png": "[encoded data removed]",
      "text/plain": [
       "<Figure size 432x288 with 1 Axes>"
      ]
     },
     "metadata": {
      "needs_background": "light"
     },
     "output_type": "display_data"
    }
   ],
   "source": [
    "def Ticket_label(TicketGroup):\n",
    "    if 2 <= TicketGroup <= 4:\n",
    "        return 2\n",
    "    elif  8 >= TicketGroup > 4 or TicketGroup ==1:\n",
    "        return 1\n",
    "    else:\n",
    "        return 0 \n",
    "full['TicketGroup'] = full['TicketGroup'].apply(Ticket_label)\n",
    "sns.barplot(x='TicketGroup',y='Survived',data=full)"
   ]
  },
  {
   "cell_type": "code",
   "execution_count": 21,
   "id": "c9018538",
   "metadata": {},
   "outputs": [
    {
     "data": {
      "text/html": [
       "<div>\n",
       "<style scoped>\n",
       "    .dataframe tbody tr th:only-of-type {\n",
       "        vertical-align: middle;\n",
       "    }\n",
       "\n",
       "    .dataframe tbody tr th {\n",
       "        vertical-align: top;\n",
       "    }\n",
       "\n",
       "    .dataframe thead th {\n",
       "        text-align: right;\n",
       "    }\n",
       "</style>\n",
       "<table border=\"1\" class=\"dataframe\">\n",
       "  <thead>\n",
       "    <tr style=\"text-align: right;\">\n",
       "      <th></th>\n",
       "      <th>PassengerId</th>\n",
       "      <th>Survived</th>\n",
       "      <th>Pclass</th>\n",
       "      <th>Name</th>\n",
       "      <th>Sex</th>\n",
       "      <th>Age</th>\n",
       "      <th>SibSp</th>\n",
       "      <th>Parch</th>\n",
       "      <th>Ticket</th>\n",
       "      <th>Fare</th>\n",
       "      <th>Cabin</th>\n",
       "      <th>Embarked</th>\n",
       "      <th>FamilySize</th>\n",
       "      <th>Title</th>\n",
       "      <th>Deck</th>\n",
       "      <th>TicketGroup</th>\n",
       "    </tr>\n",
       "  </thead>\n",
       "  <tbody>\n",
       "    <tr>\n",
       "      <th>1043</th>\n",
       "      <td>1044</td>\n",
       "      <td>NaN</td>\n",
       "      <td>3</td>\n",
       "      <td>Storey, Mr. Thomas</td>\n",
       "      <td>male</td>\n",
       "      <td>60.5</td>\n",
       "      <td>0</td>\n",
       "      <td>0</td>\n",
       "      <td>3701</td>\n",
       "      <td>NaN</td>\n",
       "      <td>U</td>\n",
       "      <td>S</td>\n",
       "      <td>1</td>\n",
       "      <td>Mr</td>\n",
       "      <td>U</td>\n",
       "      <td>1</td>\n",
       "    </tr>\n",
       "  </tbody>\n",
       "</table>\n",
       "</div>"
      ],
      "text/plain": [
       "      PassengerId  Survived  Pclass                Name   Sex   Age  SibSp  \\\n",
       "1043         1044       NaN       3  Storey, Mr. Thomas  male  60.5      0   \n",
       "\n",
       "      Parch Ticket  Fare Cabin Embarked  FamilySize Title Deck  TicketGroup  \n",
       "1043      0   3701   NaN     U        S           1    Mr    U            1  "
      ]
     },
     "execution_count": 21,
     "metadata": {},
     "output_type": "execute_result"
    }
   ],
   "source": [
    "full[full['Fare'].isnull()]"
   ]
  },
  {
   "cell_type": "code",
   "execution_count": 22,
   "id": "ed196c8e",
   "metadata": {},
   "outputs": [],
   "source": [
    "full['Fare'] = full['Fare'].fillna(8.05)"
   ]
  },
  {
   "cell_type": "code",
   "execution_count": 23,
   "id": "8cc8f961",
   "metadata": {},
   "outputs": [
    {
     "data": {
      "text/html": [
       "<div>\n",
       "<style scoped>\n",
       "    .dataframe tbody tr th:only-of-type {\n",
       "        vertical-align: middle;\n",
       "    }\n",
       "\n",
       "    .dataframe tbody tr th {\n",
       "        vertical-align: top;\n",
       "    }\n",
       "\n",
       "    .dataframe thead th {\n",
       "        text-align: right;\n",
       "    }\n",
       "</style>\n",
       "<table border=\"1\" class=\"dataframe\">\n",
       "  <thead>\n",
       "    <tr style=\"text-align: right;\">\n",
       "      <th></th>\n",
       "      <th>PassengerId</th>\n",
       "      <th>Survived</th>\n",
       "      <th>Pclass</th>\n",
       "      <th>Name</th>\n",
       "      <th>Sex</th>\n",
       "      <th>Age</th>\n",
       "      <th>SibSp</th>\n",
       "      <th>Parch</th>\n",
       "      <th>Ticket</th>\n",
       "      <th>Fare</th>\n",
       "      <th>Cabin</th>\n",
       "      <th>Embarked</th>\n",
       "      <th>FamilySize</th>\n",
       "      <th>Title</th>\n",
       "      <th>Deck</th>\n",
       "      <th>TicketGroup</th>\n",
       "    </tr>\n",
       "  </thead>\n",
       "  <tbody>\n",
       "    <tr>\n",
       "      <th>61</th>\n",
       "      <td>62</td>\n",
       "      <td>1.0</td>\n",
       "      <td>1</td>\n",
       "      <td>Icard, Miss. Amelie</td>\n",
       "      <td>female</td>\n",
       "      <td>38.0</td>\n",
       "      <td>0</td>\n",
       "      <td>0</td>\n",
       "      <td>113572</td>\n",
       "      <td>80.0</td>\n",
       "      <td>B28</td>\n",
       "      <td>NaN</td>\n",
       "      <td>1</td>\n",
       "      <td>Miss</td>\n",
       "      <td>B</td>\n",
       "      <td>2</td>\n",
       "    </tr>\n",
       "    <tr>\n",
       "      <th>829</th>\n",
       "      <td>830</td>\n",
       "      <td>1.0</td>\n",
       "      <td>1</td>\n",
       "      <td>Stone, Mrs. George Nelson (Martha Evelyn)</td>\n",
       "      <td>female</td>\n",
       "      <td>62.0</td>\n",
       "      <td>0</td>\n",
       "      <td>0</td>\n",
       "      <td>113572</td>\n",
       "      <td>80.0</td>\n",
       "      <td>B28</td>\n",
       "      <td>NaN</td>\n",
       "      <td>1</td>\n",
       "      <td>Mrs</td>\n",
       "      <td>B</td>\n",
       "      <td>2</td>\n",
       "    </tr>\n",
       "  </tbody>\n",
       "</table>\n",
       "</div>"
      ],
      "text/plain": [
       "     PassengerId  Survived  Pclass                                       Name  \\\n",
       "61            62       1.0       1                        Icard, Miss. Amelie   \n",
       "829          830       1.0       1  Stone, Mrs. George Nelson (Martha Evelyn)   \n",
       "\n",
       "        Sex   Age  SibSp  Parch  Ticket  Fare Cabin Embarked  FamilySize  \\\n",
       "61   female  38.0      0      0  113572  80.0   B28      NaN           1   \n",
       "829  female  62.0      0      0  113572  80.0   B28      NaN           1   \n",
       "\n",
       "    Title Deck  TicketGroup  \n",
       "61   Miss    B            2  \n",
       "829   Mrs    B            2  "
      ]
     },
     "execution_count": 23,
     "metadata": {},
     "output_type": "execute_result"
    }
   ],
   "source": [
    "full[full['Embarked'].isnull()]"
   ]
  },
  {
   "cell_type": "code",
   "execution_count": 24,
   "id": "3a4ca480",
   "metadata": {},
   "outputs": [
    {
     "data": {
      "text/plain": [
       "Pclass  Embarked\n",
       "1       C           76.7292\n",
       "        Q           90.0000\n",
       "        S           52.0000\n",
       "2       C           15.3146\n",
       "        Q           12.3500\n",
       "        S           15.3750\n",
       "3       C            7.8958\n",
       "        Q            7.7500\n",
       "        S            8.0500\n",
       "Name: Fare, dtype: float64"
      ]
     },
     "execution_count": 24,
     "metadata": {},
     "output_type": "execute_result"
    }
   ],
   "source": [
    "full['Fare'].groupby([full['Pclass'],full['Embarked']]).median()"
   ]
  },
  {
   "cell_type": "code",
   "execution_count": 25,
   "id": "483cd1c6",
   "metadata": {},
   "outputs": [],
   "source": [
    "full[\"Embarked\"] = full['Embarked'].fillna(\"C\")"
   ]
  },
  {
   "cell_type": "code",
   "execution_count": 26,
   "id": "9d278de4",
   "metadata": {},
   "outputs": [
    {
     "data": {
      "text/html": [
       "<div>\n",
       "<style scoped>\n",
       "    .dataframe tbody tr th:only-of-type {\n",
       "        vertical-align: middle;\n",
       "    }\n",
       "\n",
       "    .dataframe tbody tr th {\n",
       "        vertical-align: top;\n",
       "    }\n",
       "\n",
       "    .dataframe thead th {\n",
       "        text-align: right;\n",
       "    }\n",
       "</style>\n",
       "<table border=\"1\" class=\"dataframe\">\n",
       "  <thead>\n",
       "    <tr style=\"text-align: right;\">\n",
       "      <th></th>\n",
       "      <th>PassengerId</th>\n",
       "      <th>Survived</th>\n",
       "      <th>Pclass</th>\n",
       "      <th>Name</th>\n",
       "      <th>Sex</th>\n",
       "      <th>Age</th>\n",
       "      <th>SibSp</th>\n",
       "      <th>Parch</th>\n",
       "      <th>Ticket</th>\n",
       "      <th>Fare</th>\n",
       "      <th>Cabin</th>\n",
       "      <th>Embarked</th>\n",
       "      <th>FamilySize</th>\n",
       "      <th>Title</th>\n",
       "      <th>Deck</th>\n",
       "      <th>TicketGroup</th>\n",
       "    </tr>\n",
       "  </thead>\n",
       "  <tbody>\n",
       "  </tbody>\n",
       "</table>\n",
       "</div>"
      ],
      "text/plain": [
       "Empty DataFrame\n",
       "Columns: [PassengerId, Survived, Pclass, Name, Sex, Age, SibSp, Parch, Ticket, Fare, Cabin, Embarked, FamilySize, Title, Deck, TicketGroup]\n",
       "Index: []"
      ]
     },
     "execution_count": 26,
     "metadata": {},
     "output_type": "execute_result"
    }
   ],
   "source": [
    "full['Cabin'] = full['Cabin'].fillna('U')\n",
    "\n",
    "full['Deck'] = full['Cabin'].map(lambda x: x[0])\n",
    "deckDF = pd.get_dummies(full['Deck'],prefix='Cabin')\n",
    "full[full['Cabin'].isnull()]"
   ]
  },
  {
   "cell_type": "code",
   "execution_count": 27,
   "id": "eaa5478c",
   "metadata": {},
   "outputs": [],
   "source": [
    "sex_mapDict = {'male':1,'female':0}\n",
    "full['Sex'] = full['Sex'].map(sex_mapDict)"
   ]
  },
  {
   "cell_type": "code",
   "execution_count": 28,
   "id": "d36a64b1",
   "metadata": {},
   "outputs": [],
   "source": [
    "from sklearn.ensemble import RandomForestClassifier\n",
    "\n",
    "ageDF = full[['Age', 'Pclass','Sex','Title']]\n",
    "ageDF = pd.get_dummies(ageDF)\n",
    "known_age = ageDF[ageDF.Age.notnull()].values\n",
    "unknown_age = ageDF[ageDF.Age.isnull()].values\n",
    "y = known_age[:, 0]\n",
    "X = known_age[:, 1:]\n",
    "rfr = RandomForestClassifier(random_state=0, n_estimators=100, n_jobs=-1)\n",
    "rfr.fit(X, y.astype(int))\n",
    "predictedAges = rfr.predict(unknown_age[:, 1::])\n",
    "full.loc[ (full.Age.isnull()), 'Age' ] = predictedAges\n"
   ]
  },
  {
   "cell_type": "code",
   "execution_count": 29,
   "id": "cadc7a6c",
   "metadata": {},
   "outputs": [
    {
     "data": {
      "text/plain": [
       "1309"
      ]
     },
     "execution_count": 29,
     "metadata": {},
     "output_type": "execute_result"
    }
   ],
   "source": [
    "full['Age'].size"
   ]
  },
  {
   "cell_type": "code",
   "execution_count": 30,
   "id": "0e159bac",
   "metadata": {},
   "outputs": [],
   "source": [
    "familyDF = pd.DataFrame()\n",
    "familyDF['FamilySize'] = full['SibSp']+full['Parch']+1\n",
    "familyDF['Family_Single'] = familyDF['FamilySize'].map(lambda s: 1 if ((2<=s<5)|(s==1)) else 0)\n",
    "familyDF['Family_Small'] = familyDF['FamilySize'].map(lambda s: 1 if 5<=s<=7 else 0)\n",
    "familyDF['Family_Large'] = familyDF['FamilySize'].map(lambda s: 1 if s>7 else 0)"
   ]
  },
  {
   "cell_type": "code",
   "execution_count": 31,
   "id": "4c273cfb",
   "metadata": {},
   "outputs": [
    {
     "data": {
      "text/html": [
       "<div>\n",
       "<style scoped>\n",
       "    .dataframe tbody tr th:only-of-type {\n",
       "        vertical-align: middle;\n",
       "    }\n",
       "\n",
       "    .dataframe tbody tr th {\n",
       "        vertical-align: top;\n",
       "    }\n",
       "\n",
       "    .dataframe thead th {\n",
       "        text-align: right;\n",
       "    }\n",
       "</style>\n",
       "<table border=\"1\" class=\"dataframe\">\n",
       "  <thead>\n",
       "    <tr style=\"text-align: right;\">\n",
       "      <th></th>\n",
       "      <th>PassengerId</th>\n",
       "      <th>Survived</th>\n",
       "      <th>Name</th>\n",
       "      <th>Sex</th>\n",
       "      <th>Age</th>\n",
       "      <th>SibSp</th>\n",
       "      <th>Parch</th>\n",
       "      <th>Ticket</th>\n",
       "      <th>Fare</th>\n",
       "      <th>Cabin</th>\n",
       "      <th>...</th>\n",
       "      <th>Cabin_C</th>\n",
       "      <th>Cabin_D</th>\n",
       "      <th>Cabin_E</th>\n",
       "      <th>Cabin_F</th>\n",
       "      <th>Cabin_G</th>\n",
       "      <th>Cabin_T</th>\n",
       "      <th>Cabin_U</th>\n",
       "      <th>Embarked_C</th>\n",
       "      <th>Embarked_Q</th>\n",
       "      <th>Embarked_S</th>\n",
       "    </tr>\n",
       "  </thead>\n",
       "  <tbody>\n",
       "    <tr>\n",
       "      <th>0</th>\n",
       "      <td>1</td>\n",
       "      <td>0.0</td>\n",
       "      <td>Braund, Mr. Owen Harris</td>\n",
       "      <td>1</td>\n",
       "      <td>22.0</td>\n",
       "      <td>1</td>\n",
       "      <td>0</td>\n",
       "      <td>A/5 21171</td>\n",
       "      <td>7.2500</td>\n",
       "      <td>U</td>\n",
       "      <td>...</td>\n",
       "      <td>0</td>\n",
       "      <td>0</td>\n",
       "      <td>0</td>\n",
       "      <td>0</td>\n",
       "      <td>0</td>\n",
       "      <td>0</td>\n",
       "      <td>1</td>\n",
       "      <td>0</td>\n",
       "      <td>0</td>\n",
       "      <td>1</td>\n",
       "    </tr>\n",
       "    <tr>\n",
       "      <th>1</th>\n",
       "      <td>2</td>\n",
       "      <td>1.0</td>\n",
       "      <td>Cumings, Mrs. John Bradley (Florence Briggs Th...</td>\n",
       "      <td>0</td>\n",
       "      <td>38.0</td>\n",
       "      <td>1</td>\n",
       "      <td>0</td>\n",
       "      <td>PC 17599</td>\n",
       "      <td>71.2833</td>\n",
       "      <td>C85</td>\n",
       "      <td>...</td>\n",
       "      <td>1</td>\n",
       "      <td>0</td>\n",
       "      <td>0</td>\n",
       "      <td>0</td>\n",
       "      <td>0</td>\n",
       "      <td>0</td>\n",
       "      <td>0</td>\n",
       "      <td>1</td>\n",
       "      <td>0</td>\n",
       "      <td>0</td>\n",
       "    </tr>\n",
       "    <tr>\n",
       "      <th>2</th>\n",
       "      <td>3</td>\n",
       "      <td>1.0</td>\n",
       "      <td>Heikkinen, Miss. Laina</td>\n",
       "      <td>0</td>\n",
       "      <td>26.0</td>\n",
       "      <td>0</td>\n",
       "      <td>0</td>\n",
       "      <td>STON/O2. 3101282</td>\n",
       "      <td>7.9250</td>\n",
       "      <td>U</td>\n",
       "      <td>...</td>\n",
       "      <td>0</td>\n",
       "      <td>0</td>\n",
       "      <td>0</td>\n",
       "      <td>0</td>\n",
       "      <td>0</td>\n",
       "      <td>0</td>\n",
       "      <td>1</td>\n",
       "      <td>0</td>\n",
       "      <td>0</td>\n",
       "      <td>1</td>\n",
       "    </tr>\n",
       "    <tr>\n",
       "      <th>3</th>\n",
       "      <td>4</td>\n",
       "      <td>1.0</td>\n",
       "      <td>Futrelle, Mrs. Jacques Heath (Lily May Peel)</td>\n",
       "      <td>0</td>\n",
       "      <td>35.0</td>\n",
       "      <td>1</td>\n",
       "      <td>0</td>\n",
       "      <td>113803</td>\n",
       "      <td>53.1000</td>\n",
       "      <td>C123</td>\n",
       "      <td>...</td>\n",
       "      <td>1</td>\n",
       "      <td>0</td>\n",
       "      <td>0</td>\n",
       "      <td>0</td>\n",
       "      <td>0</td>\n",
       "      <td>0</td>\n",
       "      <td>0</td>\n",
       "      <td>0</td>\n",
       "      <td>0</td>\n",
       "      <td>1</td>\n",
       "    </tr>\n",
       "    <tr>\n",
       "      <th>4</th>\n",
       "      <td>5</td>\n",
       "      <td>0.0</td>\n",
       "      <td>Allen, Mr. William Henry</td>\n",
       "      <td>1</td>\n",
       "      <td>35.0</td>\n",
       "      <td>0</td>\n",
       "      <td>0</td>\n",
       "      <td>373450</td>\n",
       "      <td>8.0500</td>\n",
       "      <td>U</td>\n",
       "      <td>...</td>\n",
       "      <td>0</td>\n",
       "      <td>0</td>\n",
       "      <td>0</td>\n",
       "      <td>0</td>\n",
       "      <td>0</td>\n",
       "      <td>0</td>\n",
       "      <td>1</td>\n",
       "      <td>0</td>\n",
       "      <td>0</td>\n",
       "      <td>1</td>\n",
       "    </tr>\n",
       "  </tbody>\n",
       "</table>\n",
       "<p>5 rows × 37 columns</p>\n",
       "</div>"
      ],
      "text/plain": [
       "   PassengerId  Survived                                               Name  \\\n",
       "0            1       0.0                            Braund, Mr. Owen Harris   \n",
       "1            2       1.0  Cumings, Mrs. John Bradley (Florence Briggs Th...   \n",
       "2            3       1.0                             Heikkinen, Miss. Laina   \n",
       "3            4       1.0       Futrelle, Mrs. Jacques Heath (Lily May Peel)   \n",
       "4            5       0.0                           Allen, Mr. William Henry   \n",
       "\n",
       "   Sex   Age  SibSp  Parch            Ticket     Fare Cabin  ...  Cabin_C  \\\n",
       "0    1  22.0      1      0         A/5 21171   7.2500     U  ...        0   \n",
       "1    0  38.0      1      0          PC 17599  71.2833   C85  ...        1   \n",
       "2    0  26.0      0      0  STON/O2. 3101282   7.9250     U  ...        0   \n",
       "3    0  35.0      1      0            113803  53.1000  C123  ...        1   \n",
       "4    1  35.0      0      0            373450   8.0500     U  ...        0   \n",
       "\n",
       "   Cabin_D  Cabin_E  Cabin_F  Cabin_G  Cabin_T  Cabin_U  Embarked_C  \\\n",
       "0        0        0        0        0        0        1           0   \n",
       "1        0        0        0        0        0        0           1   \n",
       "2        0        0        0        0        0        1           0   \n",
       "3        0        0        0        0        0        0           0   \n",
       "4        0        0        0        0        0        1           0   \n",
       "\n",
       "   Embarked_Q  Embarked_S  \n",
       "0           0           1  \n",
       "1           0           0  \n",
       "2           0           1  \n",
       "3           0           1  \n",
       "4           0           1  \n",
       "\n",
       "[5 rows x 37 columns]"
      ]
     },
     "execution_count": 31,
     "metadata": {},
     "output_type": "execute_result"
    }
   ],
   "source": [
    "deckDF = pd.get_dummies(full['Deck'],prefix='Cabin')\n",
    "embarkedDF = pd.get_dummies(full['Embarked'],prefix='Embarked')\n",
    "titleDF = pd.get_dummies(full['Title'],prefix='Title')\n",
    "pclassDF = pd.get_dummies(full['Pclass'],prefix='Pclass')\n",
    "full = pd.concat([full,pclassDF,titleDF,familyDF,deckDF,embarkedDF],axis=1)\n",
    "full.drop(['Pclass','Title','Embarked','Deck'],axis=1,inplace=True)\n",
    "full.head()"
   ]
  },
  {
   "cell_type": "code",
   "execution_count": 32,
   "id": "51cbe918",
   "metadata": {},
   "outputs": [
    {
     "data": {
      "text/plain": [
       "\"\\n#--------------------------------------------------------------------------\\n\\n异常值处理：（参考kaggle高分大佬的经验，但是在我实际测试中得出的准确率并没有明显提高，故并未使用）\\n把姓氏相同的乘客划分为同一组，从人数大于1的组中分别提取出每组的妇女儿童和成年男性。\\n\\nfull['Surname'] = full['Name'].apply(lambda x:x.split(',')[0].strip())\\nSurname_Count = dict(full['Surname'].value_counts())\\nfull['FamilyGroup'] = full['Surname'].apply(lambda x:Surname_Count[x])\\nFemale_Child_Group = full.loc[(full['FamilyGroup']>=2) & ((full['Age']<=12) | (full['Sex']=='female'))]\\nMale_Adult_Group = full.loc[(full['FamilyGroup']>=2) & (full['Age']>12) & (full['Sex']=='male')]\\n#发现绝大部分女性和儿童组的平均存活率都为1或0，即同组的女性和儿童要么全部幸存，要么全部遇难。\\nFemale_Child = pd.DataFrame(Female_Child_Group.groupby('Surname')['Survived'].mean().value_counts())\\nFemale_Child.columns = ['GroupCount']\\n\\n#绝大部分成年男性组的平均存活率也为1或0。\\nMale_Adult = pd.DataFrame(Male_Adult_Group.groupby('Surname')['Survived'].mean().value_counts())\\nMale_Adult.columns = ['GroupCount']\\n\\n\\n普遍规律是女性和儿童幸存率高，成年男性幸存较低，所以我们把不符合普遍规律的反常组选出来单独处理。\\n把女性和儿童幸存率为0的组设置为遇难组，把成年男性存活率为1的组设置为幸存组。\\n\\nFemale_Child_Group = Female_Child_Group.groupby('Surname')['Survived'].mean()\\nDead_List=set(Female_Child_Group[Female_Child_Group.apply(lambda x:x==0)].index)\\n\\nMale_Adult_List=Male_Adult_Group.groupby('Surname')['Survived'].mean()\\nSurvived_List=set(Male_Adult_List[Male_Adult_List.apply(lambda x:x==1)].index)\\n\\n#为了使处于这两种反常组中的样本能够被正确分类，对测试集中处于反常组中的样本的Age，Title，Sex进行惩罚修改。\\ntrain = full.loc[full['Survived'].notnull()]\\ntest = full.loc[full['Survived'].isnull()]\\ntest.loc[(test['Surname'].apply(lambda x:x in Dead_List)),'Sex'] = 1\\ntest.loc[(test['Surname'].apply(lambda x:x in Dead_List)),'Age'] = 60\\ntest.loc[(test['Surname'].apply(lambda x:x in Dead_List)),'Title'] = 'Mr'\\ntest.loc[(test['Surname'].apply(lambda x:x in Survived_List)),'Sex'] = 0\\ntest.loc[(test['Surname'].apply(lambda x:x in Survived_List)),'Age'] = 5\\ntest.loc[(test['Surname'].apply(lambda x:x in Survived_List)),'Title'] = 'Miss'\\n\\n\\ntitleDF = pd.get_dummies(full['Title'],prefix='Title')\\n\\n\\n#重新划分数据，分出训练集和测试集\\nfull = pd.concat([train, test])\\n\\n#重新整合数据\\nfull = pd.concat([full,pclassDF,titleDF,familyDF,deckDF,embarkedDF],axis=1)\\n\\n\\n#-------------------------------------------------------------------------------\\n\\n\""
      ]
     },
     "execution_count": 32,
     "metadata": {},
     "output_type": "execute_result"
    }
   ],
   "source": [
    "'''\n",
    "#--------------------------------------------------------------------------\n",
    "\n",
    "异常值处理：（参考kaggle高分大佬的经验，但是在我实际测试中得出的准确率并没有明显提高，故并未使用）\n",
    "把姓氏相同的乘客划分为同一组，从人数大于1的组中分别提取出每组的妇女儿童和成年男性。\n",
    "\n",
    "full['Surname'] = full['Name'].apply(lambda x:x.split(',')[0].strip())\n",
    "Surname_Count = dict(full['Surname'].value_counts())\n",
    "full['FamilyGroup'] = full['Surname'].apply(lambda x:Surname_Count[x])\n",
    "Female_Child_Group = full.loc[(full['FamilyGroup']>=2) & ((full['Age']<=12) | (full['Sex']=='female'))]\n",
    "Male_Adult_Group = full.loc[(full['FamilyGroup']>=2) & (full['Age']>12) & (full['Sex']=='male')]\n",
    "#发现绝大部分女性和儿童组的平均存活率都为1或0，即同组的女性和儿童要么全部幸存，要么全部遇难。\n",
    "Female_Child = pd.DataFrame(Female_Child_Group.groupby('Surname')['Survived'].mean().value_counts())\n",
    "Female_Child.columns = ['GroupCount']\n",
    "\n",
    "#绝大部分成年男性组的平均存活率也为1或0。\n",
    "Male_Adult = pd.DataFrame(Male_Adult_Group.groupby('Surname')['Survived'].mean().value_counts())\n",
    "Male_Adult.columns = ['GroupCount']\n",
    "\n",
    "\n",
    "普遍规律是女性和儿童幸存率高，成年男性幸存较低，所以我们把不符合普遍规律的反常组选出来单独处理。\n",
    "把女性和儿童幸存率为0的组设置为遇难组，把成年男性存活率为1的组设置为幸存组。\n",
    "\n",
    "Female_Child_Group = Female_Child_Group.groupby('Surname')['Survived'].mean()\n",
    "Dead_List=set(Female_Child_Group[Female_Child_Group.apply(lambda x:x==0)].index)\n",
    "\n",
    "Male_Adult_List=Male_Adult_Group.groupby('Surname')['Survived'].mean()\n",
    "Survived_List=set(Male_Adult_List[Male_Adult_List.apply(lambda x:x==1)].index)\n",
    "\n",
    "#为了使处于这两种反常组中的样本能够被正确分类，对测试集中处于反常组中的样本的Age，Title，Sex进行惩罚修改。\n",
    "train = full.loc[full['Survived'].notnull()]\n",
    "test = full.loc[full['Survived'].isnull()]\n",
    "test.loc[(test['Surname'].apply(lambda x:x in Dead_List)),'Sex'] = 1\n",
    "test.loc[(test['Surname'].apply(lambda x:x in Dead_List)),'Age'] = 60\n",
    "test.loc[(test['Surname'].apply(lambda x:x in Dead_List)),'Title'] = 'Mr'\n",
    "test.loc[(test['Surname'].apply(lambda x:x in Survived_List)),'Sex'] = 0\n",
    "test.loc[(test['Surname'].apply(lambda x:x in Survived_List)),'Age'] = 5\n",
    "test.loc[(test['Surname'].apply(lambda x:x in Survived_List)),'Title'] = 'Miss'\n",
    "\n",
    "\n",
    "titleDF = pd.get_dummies(full['Title'],prefix='Title')\n",
    "\n",
    "\n",
    "#重新划分数据，分出训练集和测试集\n",
    "full = pd.concat([train, test])\n",
    "\n",
    "#重新整合数据\n",
    "full = pd.concat([full,pclassDF,titleDF,familyDF,deckDF,embarkedDF],axis=1)\n",
    "\n",
    "\n",
    "#-------------------------------------------------------------------------------\n",
    "\n",
    "'''"
   ]
  },
  {
   "cell_type": "code",
   "execution_count": 33,
   "id": "08a108a6",
   "metadata": {},
   "outputs": [
    {
     "name": "stdout",
     "output_type": "stream",
     "text": [
      "原始数据集特征: (891, 25) 训练数据集特征: (712, 25) 测试数据集特征: (179, 25)\n",
      "原始数据集标签: (891,) 训练数据集标签: (712,) 测试数据集标签: (179,)\n"
     ]
    }
   ],
   "source": [
    "from sklearn.model_selection import train_test_split\n",
    "full_X=pd.concat([full['Age'],\n",
    "                  deckDF,\n",
    "                  titleDF,\n",
    "                  pclassDF,\n",
    "                  familyDF,\n",
    "                  #full['Fare'], #和存活度相关性较差\n",
    "                  #embarkedDF, #和存活度相关性较差\n",
    "                  full['Sex'],\n",
    "                  full['TicketGroup']\n",
    "                  ],axis = 1)\n",
    "\n",
    "sourceRow = 891\n",
    "\n",
    "source_X = full_X.loc[0:sourceRow-1,:]\n",
    "source_y = full.loc[0:sourceRow-1,'Survived']\n",
    "\n",
    "pred_X=full_X.loc[sourceRow:,:]\n",
    "train_X, test_X, train_y, test_y = train_test_split(source_X, source_y, train_size=0.8)\n",
    "\n",
    "print('原始数据集特征:', source_X.shape,\n",
    "      '训练数据集特征:', train_X.shape,\n",
    "      '测试数据集特征:', test_X.shape)\n",
    "\n",
    "print('原始数据集标签:', source_y.shape,\n",
    "      '训练数据集标签:', train_y.shape,\n",
    "      '测试数据集标签:', test_y.shape)"
   ]
  },
  {
   "cell_type": "code",
   "execution_count": 34,
   "id": "27575fa6",
   "metadata": {},
   "outputs": [],
   "source": [
    "from sklearn.model_selection import train_test_split\n",
    "from sklearn.ensemble import GradientBoostingClassifier\n",
    "from sklearn.ensemble import RandomForestClassifier\n",
    "from sklearn.model_selection import cross_val_score\n",
    "from sklearn.ensemble import ExtraTreesClassifier\n",
    "from sklearn.linear_model import LogisticRegression\n",
    "from sklearn.neighbors import KNeighborsClassifier\n",
    "from sklearn.tree import DecisionTreeClassifier\n",
    "from sklearn.svm import SVC"
   ]
  },
  {
   "cell_type": "code",
   "execution_count": 35,
   "id": "de9057b9",
   "metadata": {},
   "outputs": [
    {
     "data": {
      "text/plain": [
       "KNeighborsClassifier(n_neighbors=3)"
      ]
     },
     "execution_count": 35,
     "metadata": {},
     "output_type": "execute_result"
    }
   ],
   "source": [
    "#1.使用K临近算法模型\n",
    "knc_model = KNeighborsClassifier(n_neighbors = 3)\n",
    "knc_model.fit(train_X,train_y)"
   ]
  },
  {
   "cell_type": "code",
   "execution_count": 36,
   "id": "db771652",
   "metadata": {},
   "outputs": [
    {
     "data": {
      "text/plain": [
       "GradientBoostingClassifier()"
      ]
     },
     "execution_count": 36,
     "metadata": {},
     "output_type": "execute_result"
    }
   ],
   "source": [
    "#2.使用GDBT梯度提升树模型\n",
    "gbc_model = GradientBoostingClassifier()\n",
    "gbc_model.fit(train_X,train_y)"
   ]
  },
  {
   "cell_type": "code",
   "execution_count": 37,
   "id": "d60c88ce",
   "metadata": {},
   "outputs": [
    {
     "data": {
      "text/plain": [
       "ExtraTreesClassifier(bootstrap=True, oob_score=True, random_state=6)"
      ]
     },
     "execution_count": 37,
     "metadata": {},
     "output_type": "execute_result"
    }
   ],
   "source": [
    "#3.使用极度随机树模型\n",
    "etc_model = ExtraTreesClassifier(random_state = 6, bootstrap=True, oob_score=True)\n",
    "etc_model.fit(train_X,train_y)"
   ]
  },
  {
   "cell_type": "code",
   "execution_count": 38,
   "id": "b17b9de8",
   "metadata": {},
   "outputs": [
    {
     "data": {
      "text/plain": [
       "DecisionTreeClassifier()"
      ]
     },
     "execution_count": 38,
     "metadata": {},
     "output_type": "execute_result"
    }
   ],
   "source": [
    "#4.使用决策树模型\n",
    "dtc_model = DecisionTreeClassifier()\n",
    "dtc_model.fit(train_X,train_y)"
   ]
  },
  {
   "cell_type": "code",
   "execution_count": 39,
   "id": "107d1610",
   "metadata": {},
   "outputs": [
    {
     "data": {
      "text/plain": [
       "LogisticRegression(C=0.9850000000000004, max_iter=5000, solver='liblinear')"
      ]
     },
     "execution_count": 39,
     "metadata": {},
     "output_type": "execute_result"
    }
   ],
   "source": [
    "#5.使用逻辑回归模型\n",
    "lr_model = LogisticRegression(penalty=\"l2\",solver=\"liblinear\",C=0.9850000000000004,max_iter=5000)\n",
    "lr_model.fit(train_X,train_y)"
   ]
  },
  {
   "cell_type": "code",
   "execution_count": 40,
   "id": "0d904c01",
   "metadata": {},
   "outputs": [
    {
     "data": {
      "text/plain": [
       "SVC(C=10, gamma=0.05)"
      ]
     },
     "execution_count": 40,
     "metadata": {},
     "output_type": "execute_result"
    }
   ],
   "source": [
    "#6,使用支持向量机svm模型\n",
    "svm_model = SVC(C=10,kernel='rbf',gamma=0.05,decision_function_shape='ovr')\n",
    "svm_model.fit(train_X,train_y)"
   ]
  },
  {
   "cell_type": "code",
   "execution_count": 41,
   "id": "6e8ce3bc",
   "metadata": {},
   "outputs": [
    {
     "data": {
      "text/plain": [
       "RandomForestClassifier(max_depth=8, min_samples_leaf=2, min_samples_split=8,\n",
       "                       n_estimators=180, random_state=0)"
      ]
     },
     "execution_count": 41,
     "metadata": {},
     "output_type": "execute_result"
    }
   ],
   "source": [
    "#7.使用随机森林模型:目前测试最好\n",
    "rfc_model=RandomForestClassifier(random_state = 0,\n",
    "                                 min_samples_split = 8,\n",
    "                                 n_estimators = 180,\n",
    "                                 min_samples_leaf=2,\n",
    "                                 max_depth = 8)\n",
    "rfc_model.fit(train_X,train_y)"
   ]
  },
  {
   "cell_type": "code",
   "execution_count": 42,
   "id": "7300186d",
   "metadata": {},
   "outputs": [],
   "source": [
    "#k折交叉验证\n",
    "def cross_score(X,y,mod):\n",
    "     #简单看看打分情况\n",
    "    scores=cross_val_score(mod,X,y,cv=10)\n",
    "    print('交叉验证scores:',scores)\n",
    "    print('交叉验证mean:',scores.mean())\n",
    "    print('--------------------------------------\\n')\n",
    "    return scores.mean()"
   ]
  },
  {
   "cell_type": "code",
   "execution_count": 43,
   "id": "03c4c9e5",
   "metadata": {},
   "outputs": [],
   "source": [
    "models = [knc_model,gbc_model,etc_model,dtc_model,lr_model,svm_model,rfc_model]\n",
    "model_names = ['knc_model','gbc_model','etc_model','dtc_model','lr_model','svm_model','rfc_model']"
   ]
  },
  {
   "cell_type": "code",
   "execution_count": 44,
   "id": "e6ca9705",
   "metadata": {},
   "outputs": [],
   "source": [
    "def models_score(source_X,source_y,models,model_names,train_X, train_y,test_X, test_y):\n",
    "    best_score = cross_val_score(models[0],source_X, source_y, cv=10).mean()\n",
    "    best_score_name = model_names[0]\n",
    "    i = 0\n",
    "    best_model = models[0]\n",
    "    for model in models:\n",
    "        print(model_names[i], \"train score:\", model.score(train_X, train_y))\n",
    "        print(model_names[i], \"test score:\", model.score(test_X, test_y))\n",
    "        score = cross_score(source_X, source_y, model)\n",
    "        if(score > best_score):\n",
    "            best_score_name = model_names[i]\n",
    "            best_score = score\n",
    "            best_model = model\n",
    "        i = i + 1\n",
    "    print('the best score model is',best_score_name,',cross score is',best_score)\n",
    "    return best_model"
   ]
  },
  {
   "cell_type": "code",
   "execution_count": 45,
   "id": "39c2748a",
   "metadata": {},
   "outputs": [
    {
     "name": "stderr",
     "output_type": "stream",
     "text": [
      "/Users/zhangxinyu/miniforge3/lib/python3.9/site-packages/sklearn/neighbors/_classification.py:228: FutureWarning: Unlike other reduction functions (e.g. `skew`, `kurtosis`), the default behavior of `mode` typically preserves the axis it acts along. In SciPy 1.11.0, this behavior will change: the default value of `keepdims` will become False, the `axis` over which the statistic is taken will be eliminated, and the value None will no longer be accepted. Set `keepdims` to True or False to avoid this warning.\n",
      "  mode, _ = stats.mode(_y[neigh_ind, k], axis=1)\n",
      "/Users/zhangxinyu/miniforge3/lib/python3.9/site-packages/sklearn/neighbors/_classification.py:228: FutureWarning: Unlike other reduction functions (e.g. `skew`, `kurtosis`), the default behavior of `mode` typically preserves the axis it acts along. In SciPy 1.11.0, this behavior will change: the default value of `keepdims` will become False, the `axis` over which the statistic is taken will be eliminated, and the value None will no longer be accepted. Set `keepdims` to True or False to avoid this warning.\n",
      "  mode, _ = stats.mode(_y[neigh_ind, k], axis=1)\n",
      "/Users/zhangxinyu/miniforge3/lib/python3.9/site-packages/sklearn/neighbors/_classification.py:228: FutureWarning: Unlike other reduction functions (e.g. `skew`, `kurtosis`), the default behavior of `mode` typically preserves the axis it acts along. In SciPy 1.11.0, this behavior will change: the default value of `keepdims` will become False, the `axis` over which the statistic is taken will be eliminated, and the value None will no longer be accepted. Set `keepdims` to True or False to avoid this warning.\n",
      "  mode, _ = stats.mode(_y[neigh_ind, k], axis=1)\n",
      "/Users/zhangxinyu/miniforge3/lib/python3.9/site-packages/sklearn/neighbors/_classification.py:228: FutureWarning: Unlike other reduction functions (e.g. `skew`, `kurtosis`), the default behavior of `mode` typically preserves the axis it acts along. In SciPy 1.11.0, this behavior will change: the default value of `keepdims` will become False, the `axis` over which the statistic is taken will be eliminated, and the value None will no longer be accepted. Set `keepdims` to True or False to avoid this warning.\n",
      "  mode, _ = stats.mode(_y[neigh_ind, k], axis=1)\n",
      "/Users/zhangxinyu/miniforge3/lib/python3.9/site-packages/sklearn/neighbors/_classification.py:228: FutureWarning: Unlike other reduction functions (e.g. `skew`, `kurtosis`), the default behavior of `mode` typically preserves the axis it acts along. In SciPy 1.11.0, this behavior will change: the default value of `keepdims` will become False, the `axis` over which the statistic is taken will be eliminated, and the value None will no longer be accepted. Set `keepdims` to True or False to avoid this warning.\n",
      "  mode, _ = stats.mode(_y[neigh_ind, k], axis=1)\n",
      "/Users/zhangxinyu/miniforge3/lib/python3.9/site-packages/sklearn/neighbors/_classification.py:228: FutureWarning: Unlike other reduction functions (e.g. `skew`, `kurtosis`), the default behavior of `mode` typically preserves the axis it acts along. In SciPy 1.11.0, this behavior will change: the default value of `keepdims` will become False, the `axis` over which the statistic is taken will be eliminated, and the value None will no longer be accepted. Set `keepdims` to True or False to avoid this warning.\n",
      "  mode, _ = stats.mode(_y[neigh_ind, k], axis=1)\n",
      "/Users/zhangxinyu/miniforge3/lib/python3.9/site-packages/sklearn/neighbors/_classification.py:228: FutureWarning: Unlike other reduction functions (e.g. `skew`, `kurtosis`), the default behavior of `mode` typically preserves the axis it acts along. In SciPy 1.11.0, this behavior will change: the default value of `keepdims` will become False, the `axis` over which the statistic is taken will be eliminated, and the value None will no longer be accepted. Set `keepdims` to True or False to avoid this warning.\n",
      "  mode, _ = stats.mode(_y[neigh_ind, k], axis=1)\n",
      "/Users/zhangxinyu/miniforge3/lib/python3.9/site-packages/sklearn/neighbors/_classification.py:228: FutureWarning: Unlike other reduction functions (e.g. `skew`, `kurtosis`), the default behavior of `mode` typically preserves the axis it acts along. In SciPy 1.11.0, this behavior will change: the default value of `keepdims` will become False, the `axis` over which the statistic is taken will be eliminated, and the value None will no longer be accepted. Set `keepdims` to True or False to avoid this warning.\n",
      "  mode, _ = stats.mode(_y[neigh_ind, k], axis=1)\n",
      "/Users/zhangxinyu/miniforge3/lib/python3.9/site-packages/sklearn/neighbors/_classification.py:228: FutureWarning: Unlike other reduction functions (e.g. `skew`, `kurtosis`), the default behavior of `mode` typically preserves the axis it acts along. In SciPy 1.11.0, this behavior will change: the default value of `keepdims` will become False, the `axis` over which the statistic is taken will be eliminated, and the value None will no longer be accepted. Set `keepdims` to True or False to avoid this warning.\n",
      "  mode, _ = stats.mode(_y[neigh_ind, k], axis=1)\n",
      "/Users/zhangxinyu/miniforge3/lib/python3.9/site-packages/sklearn/neighbors/_classification.py:228: FutureWarning: Unlike other reduction functions (e.g. `skew`, `kurtosis`), the default behavior of `mode` typically preserves the axis it acts along. In SciPy 1.11.0, this behavior will change: the default value of `keepdims` will become False, the `axis` over which the statistic is taken will be eliminated, and the value None will no longer be accepted. Set `keepdims` to True or False to avoid this warning.\n",
      "  mode, _ = stats.mode(_y[neigh_ind, k], axis=1)\n",
      "/Users/zhangxinyu/miniforge3/lib/python3.9/site-packages/sklearn/neighbors/_classification.py:228: FutureWarning: Unlike other reduction functions (e.g. `skew`, `kurtosis`), the default behavior of `mode` typically preserves the axis it acts along. In SciPy 1.11.0, this behavior will change: the default value of `keepdims` will become False, the `axis` over which the statistic is taken will be eliminated, and the value None will no longer be accepted. Set `keepdims` to True or False to avoid this warning.\n",
      "  mode, _ = stats.mode(_y[neigh_ind, k], axis=1)\n",
      "/Users/zhangxinyu/miniforge3/lib/python3.9/site-packages/sklearn/neighbors/_classification.py:228: FutureWarning: Unlike other reduction functions (e.g. `skew`, `kurtosis`), the default behavior of `mode` typically preserves the axis it acts along. In SciPy 1.11.0, this behavior will change: the default value of `keepdims` will become False, the `axis` over which the statistic is taken will be eliminated, and the value None will no longer be accepted. Set `keepdims` to True or False to avoid this warning.\n",
      "  mode, _ = stats.mode(_y[neigh_ind, k], axis=1)\n",
      "/Users/zhangxinyu/miniforge3/lib/python3.9/site-packages/sklearn/neighbors/_classification.py:228: FutureWarning: Unlike other reduction functions (e.g. `skew`, `kurtosis`), the default behavior of `mode` typically preserves the axis it acts along. In SciPy 1.11.0, this behavior will change: the default value of `keepdims` will become False, the `axis` over which the statistic is taken will be eliminated, and the value None will no longer be accepted. Set `keepdims` to True or False to avoid this warning.\n",
      "  mode, _ = stats.mode(_y[neigh_ind, k], axis=1)\n",
      "/Users/zhangxinyu/miniforge3/lib/python3.9/site-packages/sklearn/neighbors/_classification.py:228: FutureWarning: Unlike other reduction functions (e.g. `skew`, `kurtosis`), the default behavior of `mode` typically preserves the axis it acts along. In SciPy 1.11.0, this behavior will change: the default value of `keepdims` will become False, the `axis` over which the statistic is taken will be eliminated, and the value None will no longer be accepted. Set `keepdims` to True or False to avoid this warning.\n",
      "  mode, _ = stats.mode(_y[neigh_ind, k], axis=1)\n",
      "/Users/zhangxinyu/miniforge3/lib/python3.9/site-packages/sklearn/neighbors/_classification.py:228: FutureWarning: Unlike other reduction functions (e.g. `skew`, `kurtosis`), the default behavior of `mode` typically preserves the axis it acts along. In SciPy 1.11.0, this behavior will change: the default value of `keepdims` will become False, the `axis` over which the statistic is taken will be eliminated, and the value None will no longer be accepted. Set `keepdims` to True or False to avoid this warning.\n",
      "  mode, _ = stats.mode(_y[neigh_ind, k], axis=1)\n",
      "/Users/zhangxinyu/miniforge3/lib/python3.9/site-packages/sklearn/neighbors/_classification.py:228: FutureWarning: Unlike other reduction functions (e.g. `skew`, `kurtosis`), the default behavior of `mode` typically preserves the axis it acts along. In SciPy 1.11.0, this behavior will change: the default value of `keepdims` will become False, the `axis` over which the statistic is taken will be eliminated, and the value None will no longer be accepted. Set `keepdims` to True or False to avoid this warning.\n",
      "  mode, _ = stats.mode(_y[neigh_ind, k], axis=1)\n",
      "/Users/zhangxinyu/miniforge3/lib/python3.9/site-packages/sklearn/neighbors/_classification.py:228: FutureWarning: Unlike other reduction functions (e.g. `skew`, `kurtosis`), the default behavior of `mode` typically preserves the axis it acts along. In SciPy 1.11.0, this behavior will change: the default value of `keepdims` will become False, the `axis` over which the statistic is taken will be eliminated, and the value None will no longer be accepted. Set `keepdims` to True or False to avoid this warning.\n",
      "  mode, _ = stats.mode(_y[neigh_ind, k], axis=1)\n",
      "/Users/zhangxinyu/miniforge3/lib/python3.9/site-packages/sklearn/neighbors/_classification.py:228: FutureWarning: Unlike other reduction functions (e.g. `skew`, `kurtosis`), the default behavior of `mode` typically preserves the axis it acts along. In SciPy 1.11.0, this behavior will change: the default value of `keepdims` will become False, the `axis` over which the statistic is taken will be eliminated, and the value None will no longer be accepted. Set `keepdims` to True or False to avoid this warning.\n",
      "  mode, _ = stats.mode(_y[neigh_ind, k], axis=1)\n",
      "/Users/zhangxinyu/miniforge3/lib/python3.9/site-packages/sklearn/neighbors/_classification.py:228: FutureWarning: Unlike other reduction functions (e.g. `skew`, `kurtosis`), the default behavior of `mode` typically preserves the axis it acts along. In SciPy 1.11.0, this behavior will change: the default value of `keepdims` will become False, the `axis` over which the statistic is taken will be eliminated, and the value None will no longer be accepted. Set `keepdims` to True or False to avoid this warning.\n",
      "  mode, _ = stats.mode(_y[neigh_ind, k], axis=1)\n",
      "/Users/zhangxinyu/miniforge3/lib/python3.9/site-packages/sklearn/neighbors/_classification.py:228: FutureWarning: Unlike other reduction functions (e.g. `skew`, `kurtosis`), the default behavior of `mode` typically preserves the axis it acts along. In SciPy 1.11.0, this behavior will change: the default value of `keepdims` will become False, the `axis` over which the statistic is taken will be eliminated, and the value None will no longer be accepted. Set `keepdims` to True or False to avoid this warning.\n",
      "  mode, _ = stats.mode(_y[neigh_ind, k], axis=1)\n",
      "/Users/zhangxinyu/miniforge3/lib/python3.9/site-packages/sklearn/neighbors/_classification.py:228: FutureWarning: Unlike other reduction functions (e.g. `skew`, `kurtosis`), the default behavior of `mode` typically preserves the axis it acts along. In SciPy 1.11.0, this behavior will change: the default value of `keepdims` will become False, the `axis` over which the statistic is taken will be eliminated, and the value None will no longer be accepted. Set `keepdims` to True or False to avoid this warning.\n",
      "  mode, _ = stats.mode(_y[neigh_ind, k], axis=1)\n",
      "/Users/zhangxinyu/miniforge3/lib/python3.9/site-packages/sklearn/neighbors/_classification.py:228: FutureWarning: Unlike other reduction functions (e.g. `skew`, `kurtosis`), the default behavior of `mode` typically preserves the axis it acts along. In SciPy 1.11.0, this behavior will change: the default value of `keepdims` will become False, the `axis` over which the statistic is taken will be eliminated, and the value None will no longer be accepted. Set `keepdims` to True or False to avoid this warning.\n",
      "  mode, _ = stats.mode(_y[neigh_ind, k], axis=1)\n"
     ]
    },
    {
     "name": "stdout",
     "output_type": "stream",
     "text": [
      "knc_model train score: 0.8764044943820225\n",
      "knc_model test score: 0.7932960893854749\n",
      "交叉验证scores: [0.77777778 0.82022472 0.74157303 0.82022472 0.84269663 0.71910112\n",
      " 0.83146067 0.78651685 0.85393258 0.79775281]\n",
      "交叉验证mean: 0.7991260923845194\n",
      "--------------------------------------\n",
      "\n",
      "gbc_model train score: 0.8721910112359551\n",
      "gbc_model test score: 0.8603351955307262\n",
      "交叉验证scores: [0.81111111 0.85393258 0.7752809  0.87640449 0.83146067 0.79775281\n",
      " 0.83146067 0.80898876 0.88764045 0.80898876]\n",
      "交叉验证mean: 0.8283021223470662\n",
      "--------------------------------------\n",
      "\n",
      "etc_model train score: 0.9382022471910112\n",
      "etc_model test score: 0.8156424581005587\n",
      "交叉验证scores: [0.74444444 0.82022472 0.71910112 0.83146067 0.85393258 0.80898876\n",
      " 0.82022472 0.7752809  0.8988764  0.83146067]\n",
      "交叉验证mean: 0.81039950062422\n",
      "--------------------------------------\n",
      "\n",
      "dtc_model train score: 0.9382022471910112\n",
      "dtc_model test score: 0.7821229050279329\n",
      "交叉验证scores: [0.74444444 0.83146067 0.75280899 0.75280899 0.86516854 0.7752809\n",
      " 0.82022472 0.75280899 0.85393258 0.79775281]\n",
      "交叉验证mean: 0.794669163545568\n",
      "--------------------------------------\n",
      "\n",
      "lr_model train score: 0.8314606741573034\n",
      "lr_model test score: 0.8603351955307262\n",
      "交叉验证scores: [0.8        0.85393258 0.7752809  0.88764045 0.84269663 0.80898876\n",
      " 0.84269663 0.80898876 0.87640449 0.83146067]\n",
      "交叉验证mean: 0.8328089887640451\n",
      "--------------------------------------\n",
      "\n",
      "svm_model train score: 0.8848314606741573\n",
      "svm_model test score: 0.8268156424581006\n",
      "交叉验证scores: [0.78888889 0.84269663 0.7752809  0.86516854 0.86516854 0.7752809\n",
      " 0.83146067 0.7752809  0.86516854 0.79775281]\n",
      "交叉验证mean: 0.818214731585518\n",
      "--------------------------------------\n",
      "\n",
      "rfc_model train score: 0.8595505617977528\n",
      "rfc_model test score: 0.8547486033519553\n",
      "交叉验证scores: [0.82222222 0.86516854 0.75280899 0.88764045 0.85393258 0.85393258\n",
      " 0.84269663 0.78651685 0.87640449 0.84269663]\n",
      "交叉验证mean: 0.8384019975031209\n",
      "--------------------------------------\n",
      "\n",
      "the best score model is rfc_model ,cross score is 0.8384019975031209\n"
     ]
    }
   ],
   "source": [
    "model = models_score(source_X,source_y,models,model_names,train_X, train_y,test_X, test_y)"
   ]
  },
  {
   "cell_type": "code",
   "execution_count": 46,
   "id": "6c611cc5",
   "metadata": {},
   "outputs": [],
   "source": [
    "import torch\n",
    "import numpy as np\n",
    "import pandas as pd"
   ]
  },
  {
   "cell_type": "code",
   "execution_count": 47,
   "id": "f2dd1494",
   "metadata": {},
   "outputs": [],
   "source": [
    "dl_train_X = torch.from_numpy(np.array(train_X))  # 将数据转化为tensor格式\n",
    "dl_train_y = torch.from_numpy(np.array(train_y))\n",
    "dl_test_X = torch.from_numpy(np.array(test_X))\n",
    "dl_test_y = torch.from_numpy(np.array(test_y))\n",
    "in_features = dl_train_X.shape[1]"
   ]
  },
  {
   "cell_type": "code",
   "execution_count": 48,
   "id": "6f5068d0",
   "metadata": {},
   "outputs": [],
   "source": [
    "# 构造网络模型\n",
    "class model(torch.nn.Module):\n",
    "    def __init__(self):\n",
    "        super(model, self).__init__()\n",
    "        self.linear1 = torch.nn.Linear(25, 64)#加上注释特征，输入为29\n",
    "        self.linear2 = torch.nn.Linear(64, 10)\n",
    "        self.linear3 = torch.nn.Linear(10, 1)\n",
    "        self.sigmoid = torch.nn.Sigmoid()\n",
    "        self.relu = torch.nn.ReLU()\n",
    "\n",
    "    def forward(self, x):\n",
    "        x = self.relu(self.linear1(x))\n",
    "        x = self.relu(self.linear2(x))\n",
    "        x = self.sigmoid(self.linear3(x))\n",
    "        return x"
   ]
  },
  {
   "cell_type": "code",
   "execution_count": 49,
   "id": "2b11916f",
   "metadata": {},
   "outputs": [],
   "source": [
    "'''\n",
    "#改良版的Net,效果一般\n",
    "class model(nn.Module):\n",
    "    def __init__(self):\n",
    "        super(model, self).__init__()\n",
    "        self.linear1 = nn.Linear(25, 64)#加上注释特征，输入为29\n",
    "        self.linear2 = nn.Linear(64, 128)\n",
    "        self.linear3 = nn.Linear(128, 32)\n",
    "        self.linear4 = nn.Linear(32, 16)\n",
    "        self.linear5 = nn.Linear(16, 1)\n",
    "        self.relu = nn.ReLU()\n",
    "        self.softmax = nn.Softmax(dim=1)\n",
    "        self.dropout = nn.Dropout(p=0.1)\n",
    "    def forward(self, x):\n",
    "        x = self.relu(self.linear1(x))\n",
    "        x = self.relu(self.dropout(self.linear2(x)))\n",
    "        x = self.relu(self.dropout(self.linear3(x)))\n",
    "        x = self.relu(self.linear4(x))\n",
    "        x = self.softmax(self.linear5(x))\n",
    "        return x\n",
    "'''\n",
    "dl_model = model()"
   ]
  },
  {
   "cell_type": "code",
   "execution_count": 50,
   "id": "b1a6d322",
   "metadata": {},
   "outputs": [],
   "source": [
    "criterion = torch.nn.BCELoss()\n",
    "optimizer = torch.optim.Adam(dl_model.parameters(), lr=0.01)\n",
    "epochs = 1000"
   ]
  },
  {
   "cell_type": "code",
   "execution_count": 51,
   "id": "ce7c7f92",
   "metadata": {},
   "outputs": [],
   "source": [
    "# 训练\n",
    "for epoch in range(epochs):\n",
    "    # 正向传播\n",
    "    y_pred = dl_model(dl_train_X.float())\n",
    "    loss = criterion(torch.squeeze(y_pred), dl_train_y.float())\n",
    "    # 反向传播\n",
    "    optimizer.zero_grad()\n",
    "    loss.backward()\n",
    "    # 更新参数\n",
    "    optimizer.step()"
   ]
  },
  {
   "cell_type": "code",
   "execution_count": 52,
   "id": "8cbd2d96",
   "metadata": {},
   "outputs": [
    {
     "data": {
      "text/plain": [
       "\"\\n#生成提交文件.csv\\npassenger_id = full.loc[sourceRow:,'PassengerId']\\n\\npredDF = pd.DataFrame(\\n{\\n 'PassengerId':passenger_id,\\n 'Survived' :pred_Y\\n})\\n\\npredDF.to_csv('zxy_titanic_pred.csv',index=False)\\nprint('run successful')\\n\""
      ]
     },
     "execution_count": 52,
     "metadata": {},
     "output_type": "execute_result"
    }
   ],
   "source": [
    "\n",
    "'''\n",
    "#提交模块：预测值为浮点型，需要转化整型提交\n",
    "#1。sklearn模型提交\n",
    "pred_Y = model.predict(pred_X)\n",
    "pred_Y = pred_Y.astype(int)\n",
    "\n",
    "\n",
    "#---------------------------------------------------------------\n",
    "\n",
    "#2。自定义deep learning模型提交\n",
    "pred_X = torch.from_numpy(np.array(pred_X))#转为tensor的形式\n",
    "pred_Y = dl_model(pred_X.float())\n",
    "pred_Y = pred_Y.detach().numpy()#将tensor转为ndarry形式\n",
    "pred_Y = pred_Y.astype(int)#转为整型提交\n",
    "'''\n",
    "\n",
    "'''\n",
    "#生成提交文件.csv\n",
    "passenger_id = full.loc[sourceRow:,'PassengerId']\n",
    "\n",
    "predDF = pd.DataFrame(\n",
    "{\n",
    " 'PassengerId':passenger_id,\n",
    " 'Survived' :pred_Y\n",
    "})\n",
    "\n",
    "predDF.to_csv('zxy_titanic_pred.csv',index=False)\n",
    "print('run successful')\n",
    "'''\n",
    "#最高排名已进入前6%"
   ]
  },
  {
   "cell_type": "code",
   "execution_count": null,
   "id": "c9049acc",
   "metadata": {},
   "outputs": [],
   "source": []
  }
 ],
 "metadata": {
  "kernelspec": {
   "display_name": "Python 3 (ipykernel)",
   "language": "python",
   "name": "python3"
  },
  "language_info": {
   "codemirror_mode": {
    "name": "ipython",
    "version": 3
   },
   "file_extension": ".py",
   "mimetype": "text/x-python",
   "name": "python",
   "nbconvert_exporter": "python",
   "pygments_lexer": "ipython3",
   "version": "3.9.10"
  }
 },
 "nbformat": 4,
 "nbformat_minor": 5
}
